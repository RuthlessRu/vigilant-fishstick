{
 "cells": [
  {
   "cell_type": "code",
   "execution_count": 1,
   "id": "17621669",
   "metadata": {
    "_cell_guid": "b1076dfc-b9ad-4769-8c92-a6c4dae69d19",
    "_uuid": "8f2839f25d086af736a60e9eeb907d3b93b6e0e5",
    "execution": {
     "iopub.execute_input": "2024-11-24T07:15:58.291787Z",
     "iopub.status.busy": "2024-11-24T07:15:58.291048Z",
     "iopub.status.idle": "2024-11-24T07:16:00.327824Z",
     "shell.execute_reply": "2024-11-24T07:16:00.327110Z"
    },
    "papermill": {
     "duration": 2.043333,
     "end_time": "2024-11-24T07:16:00.329910",
     "exception": false,
     "start_time": "2024-11-24T07:15:58.286577",
     "status": "completed"
    },
    "tags": []
   },
   "outputs": [],
   "source": [
    "import pandas as pd\n",
    "import numpy as np\n",
    "import os\n",
    "import seaborn as sns\n",
    "import matplotlib.pyplot as plt\n",
    "import librosa\n",
    "import librosa.display\n",
    "from IPython.display import Audio"
   ]
  },
  {
   "cell_type": "code",
   "execution_count": 2,
   "id": "bb8ab1a8",
   "metadata": {
    "execution": {
     "iopub.execute_input": "2024-11-24T07:16:00.336433Z",
     "iopub.status.busy": "2024-11-24T07:16:00.336042Z",
     "iopub.status.idle": "2024-11-24T07:16:12.150274Z",
     "shell.execute_reply": "2024-11-24T07:16:12.149569Z"
    },
    "papermill": {
     "duration": 11.819661,
     "end_time": "2024-11-24T07:16:12.152454",
     "exception": false,
     "start_time": "2024-11-24T07:16:00.332793",
     "status": "completed"
    },
    "tags": []
   },
   "outputs": [],
   "source": [
    "paths=[]\n",
    "labels=[]\n",
    "\n",
    "for dirname, _, filenames in os.walk('/kaggle/input'):\n",
    "    for filename in filenames:\n",
    "        path = os.path.join(dirname, filename)\n",
    "        paths.append(path)\n",
    "        label = filename.split('_')[-1]\n",
    "        label = label.split('.')[0]\n",
    "        labels.append(label.lower())"
   ]
  },
  {
   "cell_type": "code",
   "execution_count": 3,
   "id": "938168b2",
   "metadata": {
    "execution": {
     "iopub.execute_input": "2024-11-24T07:16:12.158996Z",
     "iopub.status.busy": "2024-11-24T07:16:12.158291Z",
     "iopub.status.idle": "2024-11-24T07:16:12.172405Z",
     "shell.execute_reply": "2024-11-24T07:16:12.171775Z"
    },
    "papermill": {
     "duration": 0.018913,
     "end_time": "2024-11-24T07:16:12.173941",
     "exception": false,
     "start_time": "2024-11-24T07:16:12.155028",
     "status": "completed"
    },
    "tags": []
   },
   "outputs": [],
   "source": [
    "df = pd.DataFrame()\n",
    "df['path'] = paths\n",
    "df['label'] = labels"
   ]
  },
  {
   "cell_type": "code",
   "execution_count": 4,
   "id": "0a7022be",
   "metadata": {
    "execution": {
     "iopub.execute_input": "2024-11-24T07:16:12.179736Z",
     "iopub.status.busy": "2024-11-24T07:16:12.179498Z",
     "iopub.status.idle": "2024-11-24T07:16:12.183818Z",
     "shell.execute_reply": "2024-11-24T07:16:12.183023Z"
    },
    "papermill": {
     "duration": 0.009116,
     "end_time": "2024-11-24T07:16:12.185376",
     "exception": false,
     "start_time": "2024-11-24T07:16:12.176260",
     "status": "completed"
    },
    "tags": []
   },
   "outputs": [],
   "source": [
    "def get_mfcc(filename):\n",
    "    y, sr = librosa.load(filename, duration=3, offset=0.5)\n",
    "    mfcc = np.mean(librosa.feature.mfcc(y=y, sr=sr, n_mfcc=40).T, axis=0)\n",
    "    return mfcc"
   ]
  },
  {
   "cell_type": "code",
   "execution_count": 5,
   "id": "fbe740de",
   "metadata": {
    "execution": {
     "iopub.execute_input": "2024-11-24T07:16:12.190908Z",
     "iopub.status.busy": "2024-11-24T07:16:12.190655Z",
     "iopub.status.idle": "2024-11-24T07:18:35.594295Z",
     "shell.execute_reply": "2024-11-24T07:18:35.593042Z"
    },
    "papermill": {
     "duration": 143.41103,
     "end_time": "2024-11-24T07:18:35.598649",
     "exception": false,
     "start_time": "2024-11-24T07:16:12.187619",
     "status": "completed"
    },
    "tags": []
   },
   "outputs": [],
   "source": [
    "X_mfcc = df['path'].apply(lambda x: get_mfcc(x))"
   ]
  },
  {
   "cell_type": "code",
   "execution_count": 6,
   "id": "543897a6",
   "metadata": {
    "execution": {
     "iopub.execute_input": "2024-11-24T07:18:35.615021Z",
     "iopub.status.busy": "2024-11-24T07:18:35.614053Z",
     "iopub.status.idle": "2024-11-24T07:18:35.631838Z",
     "shell.execute_reply": "2024-11-24T07:18:35.630673Z"
    },
    "papermill": {
     "duration": 0.029671,
     "end_time": "2024-11-24T07:18:35.635296",
     "exception": false,
     "start_time": "2024-11-24T07:18:35.605625",
     "status": "completed"
    },
    "tags": []
   },
   "outputs": [],
   "source": [
    "X = [x for x in X_mfcc]\n",
    "X = np.array(X)"
   ]
  },
  {
   "cell_type": "code",
   "execution_count": 7,
   "id": "efd3298d",
   "metadata": {
    "execution": {
     "iopub.execute_input": "2024-11-24T07:18:35.651875Z",
     "iopub.status.busy": "2024-11-24T07:18:35.651343Z",
     "iopub.status.idle": "2024-11-24T07:18:35.666632Z",
     "shell.execute_reply": "2024-11-24T07:18:35.665611Z"
    },
    "papermill": {
     "duration": 0.028264,
     "end_time": "2024-11-24T07:18:35.670032",
     "exception": false,
     "start_time": "2024-11-24T07:18:35.641768",
     "status": "completed"
    },
    "tags": []
   },
   "outputs": [
    {
     "data": {
      "text/plain": [
       "(5600, 40, 1)"
      ]
     },
     "execution_count": 7,
     "metadata": {},
     "output_type": "execute_result"
    }
   ],
   "source": [
    "X = np.expand_dims(X, -1)\n",
    "X.shape"
   ]
  },
  {
   "cell_type": "code",
   "execution_count": 8,
   "id": "0682ca05",
   "metadata": {
    "execution": {
     "iopub.execute_input": "2024-11-24T07:18:35.685110Z",
     "iopub.status.busy": "2024-11-24T07:18:35.684649Z",
     "iopub.status.idle": "2024-11-24T07:18:35.781611Z",
     "shell.execute_reply": "2024-11-24T07:18:35.780765Z"
    },
    "papermill": {
     "duration": 0.106879,
     "end_time": "2024-11-24T07:18:35.783561",
     "exception": false,
     "start_time": "2024-11-24T07:18:35.676682",
     "status": "completed"
    },
    "tags": []
   },
   "outputs": [],
   "source": [
    "from sklearn.preprocessing import OneHotEncoder\n",
    "enc = OneHotEncoder()\n",
    "y = enc.fit_transform(df[['label']])"
   ]
  },
  {
   "cell_type": "code",
   "execution_count": 9,
   "id": "be22c450",
   "metadata": {
    "execution": {
     "iopub.execute_input": "2024-11-24T07:18:35.789674Z",
     "iopub.status.busy": "2024-11-24T07:18:35.789340Z",
     "iopub.status.idle": "2024-11-24T07:18:48.522984Z",
     "shell.execute_reply": "2024-11-24T07:18:48.522132Z"
    },
    "papermill": {
     "duration": 12.738503,
     "end_time": "2024-11-24T07:18:48.524618",
     "exception": false,
     "start_time": "2024-11-24T07:18:35.786115",
     "status": "completed"
    },
    "tags": []
   },
   "outputs": [
    {
     "name": "stderr",
     "output_type": "stream",
     "text": [
      "/opt/conda/lib/python3.10/site-packages/keras/src/layers/rnn/rnn.py:204: UserWarning: Do not pass an `input_shape`/`input_dim` argument to a layer. When using Sequential models, prefer using an `Input(shape)` object as the first layer in the model instead.\n",
      "  super().__init__(**kwargs)\n"
     ]
    },
    {
     "data": {
      "text/html": [
       "<pre style=\"white-space:pre;overflow-x:auto;line-height:normal;font-family:Menlo,'DejaVu Sans Mono',consolas,'Courier New',monospace\"><span style=\"font-weight: bold\">Model: \"sequential\"</span>\n",
       "</pre>\n"
      ],
      "text/plain": [
       "\u001b[1mModel: \"sequential\"\u001b[0m\n"
      ]
     },
     "metadata": {},
     "output_type": "display_data"
    },
    {
     "data": {
      "text/html": [
       "<pre style=\"white-space:pre;overflow-x:auto;line-height:normal;font-family:Menlo,'DejaVu Sans Mono',consolas,'Courier New',monospace\">┏━━━━━━━━━━━━━━━━━━━━━━━━━━━━━━━━━┳━━━━━━━━━━━━━━━━━━━━━━━━┳━━━━━━━━━━━━━━━┓\n",
       "┃<span style=\"font-weight: bold\"> Layer (type)                    </span>┃<span style=\"font-weight: bold\"> Output Shape           </span>┃<span style=\"font-weight: bold\">       Param # </span>┃\n",
       "┡━━━━━━━━━━━━━━━━━━━━━━━━━━━━━━━━━╇━━━━━━━━━━━━━━━━━━━━━━━━╇━━━━━━━━━━━━━━━┩\n",
       "│ lstm (<span style=\"color: #0087ff; text-decoration-color: #0087ff\">LSTM</span>)                     │ (<span style=\"color: #00d7ff; text-decoration-color: #00d7ff\">None</span>, <span style=\"color: #00af00; text-decoration-color: #00af00\">128</span>)            │        <span style=\"color: #00af00; text-decoration-color: #00af00\">66,560</span> │\n",
       "├─────────────────────────────────┼────────────────────────┼───────────────┤\n",
       "│ dense (<span style=\"color: #0087ff; text-decoration-color: #0087ff\">Dense</span>)                   │ (<span style=\"color: #00d7ff; text-decoration-color: #00d7ff\">None</span>, <span style=\"color: #00af00; text-decoration-color: #00af00\">64</span>)             │         <span style=\"color: #00af00; text-decoration-color: #00af00\">8,256</span> │\n",
       "├─────────────────────────────────┼────────────────────────┼───────────────┤\n",
       "│ dropout (<span style=\"color: #0087ff; text-decoration-color: #0087ff\">Dropout</span>)               │ (<span style=\"color: #00d7ff; text-decoration-color: #00d7ff\">None</span>, <span style=\"color: #00af00; text-decoration-color: #00af00\">64</span>)             │             <span style=\"color: #00af00; text-decoration-color: #00af00\">0</span> │\n",
       "├─────────────────────────────────┼────────────────────────┼───────────────┤\n",
       "│ dense_1 (<span style=\"color: #0087ff; text-decoration-color: #0087ff\">Dense</span>)                 │ (<span style=\"color: #00d7ff; text-decoration-color: #00d7ff\">None</span>, <span style=\"color: #00af00; text-decoration-color: #00af00\">32</span>)             │         <span style=\"color: #00af00; text-decoration-color: #00af00\">2,080</span> │\n",
       "├─────────────────────────────────┼────────────────────────┼───────────────┤\n",
       "│ dropout_1 (<span style=\"color: #0087ff; text-decoration-color: #0087ff\">Dropout</span>)             │ (<span style=\"color: #00d7ff; text-decoration-color: #00d7ff\">None</span>, <span style=\"color: #00af00; text-decoration-color: #00af00\">32</span>)             │             <span style=\"color: #00af00; text-decoration-color: #00af00\">0</span> │\n",
       "├─────────────────────────────────┼────────────────────────┼───────────────┤\n",
       "│ dense_2 (<span style=\"color: #0087ff; text-decoration-color: #0087ff\">Dense</span>)                 │ (<span style=\"color: #00d7ff; text-decoration-color: #00d7ff\">None</span>, <span style=\"color: #00af00; text-decoration-color: #00af00\">7</span>)              │           <span style=\"color: #00af00; text-decoration-color: #00af00\">231</span> │\n",
       "└─────────────────────────────────┴────────────────────────┴───────────────┘\n",
       "</pre>\n"
      ],
      "text/plain": [
       "┏━━━━━━━━━━━━━━━━━━━━━━━━━━━━━━━━━┳━━━━━━━━━━━━━━━━━━━━━━━━┳━━━━━━━━━━━━━━━┓\n",
       "┃\u001b[1m \u001b[0m\u001b[1mLayer (type)                   \u001b[0m\u001b[1m \u001b[0m┃\u001b[1m \u001b[0m\u001b[1mOutput Shape          \u001b[0m\u001b[1m \u001b[0m┃\u001b[1m \u001b[0m\u001b[1m      Param #\u001b[0m\u001b[1m \u001b[0m┃\n",
       "┡━━━━━━━━━━━━━━━━━━━━━━━━━━━━━━━━━╇━━━━━━━━━━━━━━━━━━━━━━━━╇━━━━━━━━━━━━━━━┩\n",
       "│ lstm (\u001b[38;5;33mLSTM\u001b[0m)                     │ (\u001b[38;5;45mNone\u001b[0m, \u001b[38;5;34m128\u001b[0m)            │        \u001b[38;5;34m66,560\u001b[0m │\n",
       "├─────────────────────────────────┼────────────────────────┼───────────────┤\n",
       "│ dense (\u001b[38;5;33mDense\u001b[0m)                   │ (\u001b[38;5;45mNone\u001b[0m, \u001b[38;5;34m64\u001b[0m)             │         \u001b[38;5;34m8,256\u001b[0m │\n",
       "├─────────────────────────────────┼────────────────────────┼───────────────┤\n",
       "│ dropout (\u001b[38;5;33mDropout\u001b[0m)               │ (\u001b[38;5;45mNone\u001b[0m, \u001b[38;5;34m64\u001b[0m)             │             \u001b[38;5;34m0\u001b[0m │\n",
       "├─────────────────────────────────┼────────────────────────┼───────────────┤\n",
       "│ dense_1 (\u001b[38;5;33mDense\u001b[0m)                 │ (\u001b[38;5;45mNone\u001b[0m, \u001b[38;5;34m32\u001b[0m)             │         \u001b[38;5;34m2,080\u001b[0m │\n",
       "├─────────────────────────────────┼────────────────────────┼───────────────┤\n",
       "│ dropout_1 (\u001b[38;5;33mDropout\u001b[0m)             │ (\u001b[38;5;45mNone\u001b[0m, \u001b[38;5;34m32\u001b[0m)             │             \u001b[38;5;34m0\u001b[0m │\n",
       "├─────────────────────────────────┼────────────────────────┼───────────────┤\n",
       "│ dense_2 (\u001b[38;5;33mDense\u001b[0m)                 │ (\u001b[38;5;45mNone\u001b[0m, \u001b[38;5;34m7\u001b[0m)              │           \u001b[38;5;34m231\u001b[0m │\n",
       "└─────────────────────────────────┴────────────────────────┴───────────────┘\n"
      ]
     },
     "metadata": {},
     "output_type": "display_data"
    },
    {
     "data": {
      "text/html": [
       "<pre style=\"white-space:pre;overflow-x:auto;line-height:normal;font-family:Menlo,'DejaVu Sans Mono',consolas,'Courier New',monospace\"><span style=\"font-weight: bold\"> Total params: </span><span style=\"color: #00af00; text-decoration-color: #00af00\">77,127</span> (301.28 KB)\n",
       "</pre>\n"
      ],
      "text/plain": [
       "\u001b[1m Total params: \u001b[0m\u001b[38;5;34m77,127\u001b[0m (301.28 KB)\n"
      ]
     },
     "metadata": {},
     "output_type": "display_data"
    },
    {
     "data": {
      "text/html": [
       "<pre style=\"white-space:pre;overflow-x:auto;line-height:normal;font-family:Menlo,'DejaVu Sans Mono',consolas,'Courier New',monospace\"><span style=\"font-weight: bold\"> Trainable params: </span><span style=\"color: #00af00; text-decoration-color: #00af00\">77,127</span> (301.28 KB)\n",
       "</pre>\n"
      ],
      "text/plain": [
       "\u001b[1m Trainable params: \u001b[0m\u001b[38;5;34m77,127\u001b[0m (301.28 KB)\n"
      ]
     },
     "metadata": {},
     "output_type": "display_data"
    },
    {
     "data": {
      "text/html": [
       "<pre style=\"white-space:pre;overflow-x:auto;line-height:normal;font-family:Menlo,'DejaVu Sans Mono',consolas,'Courier New',monospace\"><span style=\"font-weight: bold\"> Non-trainable params: </span><span style=\"color: #00af00; text-decoration-color: #00af00\">0</span> (0.00 B)\n",
       "</pre>\n"
      ],
      "text/plain": [
       "\u001b[1m Non-trainable params: \u001b[0m\u001b[38;5;34m0\u001b[0m (0.00 B)\n"
      ]
     },
     "metadata": {},
     "output_type": "display_data"
    }
   ],
   "source": [
    "from keras.models import Sequential\n",
    "from keras.layers import Dense, LSTM, Dropout\n",
    "\n",
    "model = Sequential([\n",
    "    LSTM(128, return_sequences=False, input_shape=(40, 1)),\n",
    "    Dense(64, activation='relu'),\n",
    "    Dropout(0.3),\n",
    "    Dense(32, activation='relu'),\n",
    "    Dropout(0.3),\n",
    "    Dense(7, activation='softmax')\n",
    "])\n",
    "\n",
    "model.compile(loss='categorical_crossentropy', optimizer='adam', metrics=['accuracy', 'precision', 'recall', 'f1_score'])\n",
    "model.summary()"
   ]
  },
  {
   "cell_type": "code",
   "execution_count": 10,
   "id": "a937d3d2",
   "metadata": {
    "execution": {
     "iopub.execute_input": "2024-11-24T07:18:48.533169Z",
     "iopub.status.busy": "2024-11-24T07:18:48.532657Z",
     "iopub.status.idle": "2024-11-24T07:18:55.302529Z",
     "shell.execute_reply": "2024-11-24T07:18:55.301784Z"
    },
    "papermill": {
     "duration": 6.776415,
     "end_time": "2024-11-24T07:18:55.304278",
     "exception": false,
     "start_time": "2024-11-24T07:18:48.527863",
     "status": "completed"
    },
    "tags": []
   },
   "outputs": [
    {
     "name": "stdout",
     "output_type": "stream",
     "text": [
      "Epoch 1/12\n",
      "\u001b[1m9/9\u001b[0m \u001b[32m━━━━━━━━━━━━━━━━━━━━\u001b[0m\u001b[37m\u001b[0m \u001b[1m5s\u001b[0m 71ms/step - accuracy: 0.2626 - f1_score: 0.2175 - loss: 1.8521 - precision: 0.1143 - recall: 1.7857e-04 - val_accuracy: 0.1321 - val_f1_score: 0.1521 - val_loss: 2.0535 - val_precision: 0.0000e+00 - val_recall: 0.0000e+00\n",
      "Epoch 2/12\n",
      "\u001b[1m9/9\u001b[0m \u001b[32m━━━━━━━━━━━━━━━━━━━━\u001b[0m\u001b[37m\u001b[0m \u001b[1m0s\u001b[0m 16ms/step - accuracy: 0.4566 - f1_score: 0.3713 - loss: 1.5796 - precision: 0.7272 - recall: 0.0609 - val_accuracy: 0.1107 - val_f1_score: 0.1184 - val_loss: 2.0276 - val_precision: 0.3209 - val_recall: 0.0768\n",
      "Epoch 3/12\n",
      "\u001b[1m9/9\u001b[0m \u001b[32m━━━━━━━━━━━━━━━━━━━━\u001b[0m\u001b[37m\u001b[0m \u001b[1m0s\u001b[0m 16ms/step - accuracy: 0.5850 - f1_score: 0.4821 - loss: 1.2467 - precision: 0.7658 - recall: 0.2696 - val_accuracy: 0.1348 - val_f1_score: 0.1614 - val_loss: 1.7984 - val_precision: 0.3109 - val_recall: 0.1071\n",
      "Epoch 4/12\n",
      "\u001b[1m9/9\u001b[0m \u001b[32m━━━━━━━━━━━━━━━━━━━━\u001b[0m\u001b[37m\u001b[0m \u001b[1m0s\u001b[0m 15ms/step - accuracy: 0.6654 - f1_score: 0.5669 - loss: 0.9648 - precision: 0.8123 - recall: 0.4818 - val_accuracy: 0.3464 - val_f1_score: 0.3019 - val_loss: 1.3195 - val_precision: 0.3498 - val_recall: 0.1268\n",
      "Epoch 5/12\n",
      "\u001b[1m9/9\u001b[0m \u001b[32m━━━━━━━━━━━━━━━━━━━━\u001b[0m\u001b[37m\u001b[0m \u001b[1m0s\u001b[0m 15ms/step - accuracy: 0.7210 - f1_score: 0.6541 - loss: 0.7554 - precision: 0.8331 - recall: 0.5872 - val_accuracy: 0.5232 - val_f1_score: 0.4069 - val_loss: 1.1072 - val_precision: 0.6299 - val_recall: 0.2705\n",
      "Epoch 6/12\n",
      "\u001b[1m9/9\u001b[0m \u001b[32m━━━━━━━━━━━━━━━━━━━━\u001b[0m\u001b[37m\u001b[0m \u001b[1m0s\u001b[0m 16ms/step - accuracy: 0.7844 - f1_score: 0.7295 - loss: 0.6043 - precision: 0.8809 - recall: 0.6847 - val_accuracy: 0.7411 - val_f1_score: 0.4786 - val_loss: 0.8025 - val_precision: 0.8318 - val_recall: 0.4812\n",
      "Epoch 7/12\n",
      "\u001b[1m9/9\u001b[0m \u001b[32m━━━━━━━━━━━━━━━━━━━━\u001b[0m\u001b[37m\u001b[0m \u001b[1m0s\u001b[0m 16ms/step - accuracy: 0.8393 - f1_score: 0.7952 - loss: 0.4525 - precision: 0.8992 - recall: 0.7806 - val_accuracy: 0.7821 - val_f1_score: 0.4871 - val_loss: 0.5751 - val_precision: 0.8234 - val_recall: 0.7161\n",
      "Epoch 8/12\n",
      "\u001b[1m9/9\u001b[0m \u001b[32m━━━━━━━━━━━━━━━━━━━━\u001b[0m\u001b[37m\u001b[0m \u001b[1m0s\u001b[0m 16ms/step - accuracy: 0.8792 - f1_score: 0.8431 - loss: 0.3642 - precision: 0.9165 - recall: 0.8291 - val_accuracy: 0.8161 - val_f1_score: 0.4998 - val_loss: 0.4792 - val_precision: 0.8425 - val_recall: 0.7688\n",
      "Epoch 9/12\n",
      "\u001b[1m9/9\u001b[0m \u001b[32m━━━━━━━━━━━━━━━━━━━━\u001b[0m\u001b[37m\u001b[0m \u001b[1m0s\u001b[0m 15ms/step - accuracy: 0.9059 - f1_score: 0.8776 - loss: 0.2933 - precision: 0.9290 - recall: 0.8637 - val_accuracy: 0.8875 - val_f1_score: 0.5354 - val_loss: 0.4712 - val_precision: 0.9069 - val_recall: 0.8438\n",
      "Epoch 10/12\n",
      "\u001b[1m9/9\u001b[0m \u001b[32m━━━━━━━━━━━━━━━━━━━━\u001b[0m\u001b[37m\u001b[0m \u001b[1m0s\u001b[0m 16ms/step - accuracy: 0.9070 - f1_score: 0.8833 - loss: 0.2936 - precision: 0.9256 - recall: 0.8746 - val_accuracy: 0.8964 - val_f1_score: 0.5394 - val_loss: 0.4159 - val_precision: 0.9122 - val_recall: 0.8723\n",
      "Epoch 11/12\n",
      "\u001b[1m9/9\u001b[0m \u001b[32m━━━━━━━━━━━━━━━━━━━━\u001b[0m\u001b[37m\u001b[0m \u001b[1m0s\u001b[0m 16ms/step - accuracy: 0.9198 - f1_score: 0.8988 - loss: 0.2461 - precision: 0.9411 - recall: 0.8951 - val_accuracy: 0.9339 - val_f1_score: 0.5510 - val_loss: 0.3021 - val_precision: 0.9471 - val_recall: 0.9116\n",
      "Epoch 12/12\n",
      "\u001b[1m9/9\u001b[0m \u001b[32m━━━━━━━━━━━━━━━━━━━━\u001b[0m\u001b[37m\u001b[0m \u001b[1m0s\u001b[0m 16ms/step - accuracy: 0.9325 - f1_score: 0.9140 - loss: 0.2255 - precision: 0.9552 - recall: 0.9122 - val_accuracy: 0.9348 - val_f1_score: 0.5477 - val_loss: 0.2470 - val_precision: 0.9413 - val_recall: 0.9161\n"
     ]
    }
   ],
   "source": [
    "history = model.fit(X, y.toarray(), validation_split=0.2, epochs=12, batch_size=512, shuffle=True)"
   ]
  },
  {
   "cell_type": "code",
   "execution_count": 11,
   "id": "05e03ea0",
   "metadata": {
    "execution": {
     "iopub.execute_input": "2024-11-24T07:18:55.316732Z",
     "iopub.status.busy": "2024-11-24T07:18:55.316102Z",
     "iopub.status.idle": "2024-11-24T07:18:55.325203Z",
     "shell.execute_reply": "2024-11-24T07:18:55.324337Z"
    },
    "papermill": {
     "duration": 0.017332,
     "end_time": "2024-11-24T07:18:55.327220",
     "exception": false,
     "start_time": "2024-11-24T07:18:55.309888",
     "status": "completed"
    },
    "tags": []
   },
   "outputs": [
    {
     "name": "stdout",
     "output_type": "stream",
     "text": [
      "{'accuracy': [0.3120535612106323, 0.4758928716182709, 0.6064732074737549, 0.667187511920929, 0.7388392686843872, 0.7995535731315613, 0.8482142686843872, 0.8832589387893677, 0.9037946462631226, 0.9084821343421936, 0.9200893044471741, 0.9361607432365417], 'f1_score': [<tf.Tensor: shape=(7,), dtype=float32, numpy=\n",
      "array([0.51631194, 0.2910321 , 0.27730292, 0.06993002, 0.34151122,\n",
      "       0.03799651, 0.26284474], dtype=float32)>, <tf.Tensor: shape=(7,), dtype=float32, numpy=\n",
      "array([0.5843621 , 0.40368265, 0.52376974, 0.09225088, 0.68845886,\n",
      "       0.02941174, 0.39229667], dtype=float32)>, <tf.Tensor: shape=(7,), dtype=float32, numpy=\n",
      "array([0.65031314, 0.6061728 , 0.7939393 , 0.13058415, 0.8538092 ,\n",
      "       0.04968941, 0.44089448], dtype=float32)>, <tf.Tensor: shape=(7,), dtype=float32, numpy=\n",
      "array([0.69897676, 0.6520681 , 0.9100719 , 0.24927533, 0.9380014 ,\n",
      "       0.10958902, 0.47251838], dtype=float32)>, <tf.Tensor: shape=(7,), dtype=float32, numpy=\n",
      "array([0.7415605 , 0.7356912 , 0.9420377 , 0.3899721 , 0.9670329 ,\n",
      "       0.26779655, 0.6485225 ], dtype=float32)>, <tf.Tensor: shape=(7,), dtype=float32, numpy=\n",
      "array([0.80428314, 0.8168659 , 0.9540372 , 0.43478253, 0.9780381 ,\n",
      "       0.47467434, 0.77848095], dtype=float32)>, <tf.Tensor: shape=(7,), dtype=float32, numpy=\n",
      "array([0.86919314, 0.8641202 , 0.9665427 , 0.48633873, 0.979562  ,\n",
      "       0.62644416, 0.8538961 ], dtype=float32)>, <tf.Tensor: shape=(7,), dtype=float32, numpy=\n",
      "array([0.89292186, 0.90245426, 0.9756402 , 0.5944444 , 0.98684204,\n",
      "       0.6929716 , 0.9047619 ], dtype=float32)>, <tf.Tensor: shape=(7,), dtype=float32, numpy=\n",
      "array([0.91915417, 0.9252043 , 0.9819088 , 0.6486486 , 0.98454744,\n",
      "       0.74340516, 0.9273469 ], dtype=float32)>, <tf.Tensor: shape=(7,), dtype=float32, numpy=\n",
      "array([0.9310776 , 0.91525424, 0.9756706 , 0.71392393, 0.98820055,\n",
      "       0.7593984 , 0.91666657], dtype=float32)>, <tf.Tensor: shape=(7,), dtype=float32, numpy=\n",
      "array([0.93251526, 0.9282115 , 0.9862499 , 0.7253613 , 0.9868228 ,\n",
      "       0.77708584, 0.94719464], dtype=float32)>, <tf.Tensor: shape=(7,), dtype=float32, numpy=\n",
      "array([0.94828653, 0.94572663, 0.99002486, 0.803398  , 0.98670596,\n",
      "       0.80733943, 0.95111847], dtype=float32)>], 'loss': [1.8074785470962524, 1.5266814231872559, 1.1861786842346191, 0.935603141784668, 0.7190203070640564, 0.563915491104126, 0.4331490099430084, 0.3514567017555237, 0.29254886507987976, 0.28482428193092346, 0.252964049577713, 0.2142408788204193], 'precision': [0.5714285969734192, 0.7072310447692871, 0.7862595319747925, 0.8048780560493469, 0.8420405387878418, 0.8914947509765625, 0.9028236865997314, 0.9174649715423584, 0.9278869032859802, 0.9280321002006531, 0.9405152201652527, 0.9559543132781982], 'recall': [0.0008928571478463709, 0.08950892835855484, 0.3218750059604645, 0.5008928775787354, 0.6116071343421936, 0.7042410969734192, 0.792187511920929, 0.8337053656578064, 0.8645089268684387, 0.8779017925262451, 0.8964285850524902, 0.9156249761581421], 'val_accuracy': [0.13214285671710968, 0.11071428656578064, 0.13482142984867096, 0.3464285731315613, 0.5232142806053162, 0.7410714030265808, 0.7821428775787354, 0.8160714507102966, 0.887499988079071, 0.8964285850524902, 0.9339285492897034, 0.9348214268684387], 'val_f1_score': [<tf.Tensor: shape=(7,), dtype=float32, numpy=\n",
      "array([0.        , 0.        , 0.        , 0.        , 0.877828  ,\n",
      "       0.        , 0.18715593], dtype=float32)>, <tf.Tensor: shape=(7,), dtype=float32, numpy=\n",
      "array([0.        , 0.        , 0.        , 0.        , 0.79999995,\n",
      "       0.        , 0.02846971], dtype=float32)>, <tf.Tensor: shape=(7,), dtype=float32, numpy=\n",
      "array([0.        , 0.        , 0.        , 0.02469135, 0.98360646,\n",
      "       0.        , 0.12177981], dtype=float32)>, <tf.Tensor: shape=(7,), dtype=float32, numpy=\n",
      "array([0.        , 0.        , 0.        , 0.462406  , 0.99173546,\n",
      "       0.25409833, 0.40487796], dtype=float32)>, <tf.Tensor: shape=(7,), dtype=float32, numpy=\n",
      "array([0.        , 0.        , 0.        , 0.63327944, 1.        ,\n",
      "       0.48620686, 0.7288135 ], dtype=float32)>, <tf.Tensor: shape=(7,), dtype=float32, numpy=\n",
      "array([0.       , 0.       , 0.       , 0.6601307, 1.       , 0.7873831,\n",
      "       0.9023746], dtype=float32)>, <tf.Tensor: shape=(7,), dtype=float32, numpy=\n",
      "array([0.        , 0.        , 0.        , 0.66110176, 1.        ,\n",
      "       0.8034006 , 0.9448818 ], dtype=float32)>, <tf.Tensor: shape=(7,), dtype=float32, numpy=\n",
      "array([0.       , 0.       , 0.       , 0.7258319, 1.       , 0.8085561,\n",
      "       0.9639175], dtype=float32)>, <tf.Tensor: shape=(7,), dtype=float32, numpy=\n",
      "array([0.        , 0.        , 0.        , 0.8867667 , 1.        ,\n",
      "       0.88804066, 0.97323596], dtype=float32)>, <tf.Tensor: shape=(7,), dtype=float32, numpy=\n",
      "array([0.        , 0.        , 0.        , 0.8976807 , 1.        ,\n",
      "       0.89851487, 0.9795917 ], dtype=float32)>, <tf.Tensor: shape=(7,), dtype=float32, numpy=\n",
      "array([0.        , 0.        , 0.        , 0.9411765 , 1.        ,\n",
      "       0.9207547 , 0.99502486], dtype=float32)>, <tf.Tensor: shape=(7,), dtype=float32, numpy=\n",
      "array([0.        , 0.        , 0.        , 0.9249329 , 1.        ,\n",
      "       0.92967814, 0.9795917 ], dtype=float32)>], 'val_loss': [2.05350661277771, 2.0276243686676025, 1.7983672618865967, 1.3195475339889526, 1.1072394847869873, 0.8025166392326355, 0.5751193165779114, 0.4792061448097229, 0.4711844325065613, 0.4158908724784851, 0.3020961284637451, 0.24698954820632935], 'val_precision': [0.0, 0.3208955228328705, 0.3108808398246765, 0.3497537076473236, 0.6299376487731934, 0.8317901492118835, 0.8234086036682129, 0.8424657583236694, 0.9069097638130188, 0.9122315645217896, 0.9471243023872375, 0.9412844181060791], 'val_recall': [0.0, 0.07678571343421936, 0.1071428582072258, 0.12678571045398712, 0.2705357074737549, 0.48124998807907104, 0.7160714268684387, 0.768750011920929, 0.84375, 0.8723214268684387, 0.9116071462631226, 0.9160714149475098]}\n"
     ]
    }
   ],
   "source": [
    "print(history.history)"
   ]
  }
 ],
 "metadata": {
  "kaggle": {
   "accelerator": "gpu",
   "dataSources": [
    {
     "datasetId": 316368,
     "sourceId": 639622,
     "sourceType": "datasetVersion"
    }
   ],
   "dockerImageVersionId": 30787,
   "isGpuEnabled": true,
   "isInternetEnabled": true,
   "language": "python",
   "sourceType": "notebook"
  },
  "kernelspec": {
   "display_name": "Python 3",
   "language": "python",
   "name": "python3"
  },
  "language_info": {
   "codemirror_mode": {
    "name": "ipython",
    "version": 3
   },
   "file_extension": ".py",
   "mimetype": "text/x-python",
   "name": "python",
   "nbconvert_exporter": "python",
   "pygments_lexer": "ipython3",
   "version": "3.10.14"
  },
  "papermill": {
   "default_parameters": {},
   "duration": 182.77359,
   "end_time": "2024-11-24T07:18:58.605486",
   "environment_variables": {},
   "exception": null,
   "input_path": "__notebook__.ipynb",
   "output_path": "__notebook__.ipynb",
   "parameters": {},
   "start_time": "2024-11-24T07:15:55.831896",
   "version": "2.6.0"
  }
 },
 "nbformat": 4,
 "nbformat_minor": 5
}
